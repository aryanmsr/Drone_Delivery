{
 "cells": [
  {
   "cell_type": "code",
   "execution_count": 1,
   "metadata": {},
   "outputs": [],
   "source": [
    "import matplotlib.pyplot as plt\n",
    "import numpy as np\n",
    "import seaborn as sns\n",
    "import pandas as pd\n"
   ]
  },
  {
   "cell_type": "code",
   "execution_count": 2,
   "metadata": {},
   "outputs": [],
   "source": [
    "def sort_data(text):\n",
    "        f = open(text, \"r\")\n",
    "        lines = f.readlines()\n",
    "        f.close()\n",
    "\n",
    "        grid_row, grid_col, n_drones, max_turns, max_payload = [int(lines[0].split()[i]) for i in range(5)]\n",
    "        n_prod_types = int(lines[1])\n",
    "        weight_prod_types = lines[2].split()\n",
    "        weight_prod_types = [int(i) for i in weight_prod_types]         #making elements int\n",
    "        n_wrhs = int(lines[3])\n",
    "\n",
    "        wrhs_info = []\n",
    "        i=4\n",
    "        while(i<n_wrhs*2+4):\n",
    "            wrhs_loc, num_itms_per_prodtype = lines[i].split(), lines[i+1].split()\n",
    "            wrhs_loc = [int(i) for i in wrhs_loc]\n",
    "            num_itms_per_prodtype = [int(i) for i in num_itms_per_prodtype]\n",
    "            wrhs_info.append([wrhs_loc, num_itms_per_prodtype])\n",
    "            i = i+2\n",
    "\n",
    "        n_orders = int(lines[24])\n",
    "        i=25\n",
    "        order_info = []\n",
    "        while(i<n_orders*3+25):\n",
    "            order_loc, n_order_items, prod_type_of_prod_item =  lines[i].split(), lines[i+1].split(), lines[i+2].split()\n",
    "            order_loc = [int(i) for i in order_loc]\n",
    "            n_order_items = [int(i) for i in n_order_items]\n",
    "            prod_type_of_prod_item = [int(i) for i in prod_type_of_prod_item]\n",
    "            order_info.append([order_loc, n_order_items, prod_type_of_prod_item])\n",
    "            i = i+3\n",
    "        return grid_row, grid_col, n_drones, max_turns, max_payload, n_prod_types, weight_prod_types, n_wrhs, wrhs_info, n_orders, order_info"
   ]
  },
  {
   "cell_type": "code",
   "execution_count": 3,
   "metadata": {},
   "outputs": [],
   "source": [
    "data = sort_data(\"busy_day.in\")\n",
    "grid_row, grid_col, n_drones, max_turns, max_payload, n_prod_types, weight_prod_types, n_wrhs, wrhs_info, n_orders, order_info = [data[i] for i in range(11)]\n",
    "\n",
    "#-- Geograhical plot of warehouses and orders\n",
    "wrhs_loc = [wrhs_info[i][0] for i in range(len(wrhs_info))]\n",
    "order_loc = [order_info[i][0] for i in range(len(order_info))]\n",
    "wrhs_num = list(range(n_wrhs))\n",
    "\n",
    "#-- Number of items in each warehouse\n",
    "wrhs_n_items = [sum(i[1]) for i in wrhs_info]\n",
    "\n",
    "#-- Dataframe for the Orders [Row Location, Col Location, N of items per order]\n",
    "x_order_loc = [order_info[i][0][0] for i in range(len(order_info))]\n",
    "y_order_loc = [order_info[i][0][1] for i in range(len(order_info))]\n",
    "n_items_per_order = [order_info[i][1][0] for i in range(len(order_info))]\n",
    "df1_orders = pd.DataFrame(list(zip(x_order_loc,y_order_loc,n_items_per_order)), columns = [\"X\", \"Y\", \"N of Items\"])\n"
   ]
  },
  {
   "cell_type": "code",
   "execution_count": 9,
   "metadata": {},
   "outputs": [],
   "source": [
    "class Dataframes:\n",
    "\n",
    "    def __init__(self):\n",
    "        data = sort_data(\"busy_day.in\")\n",
    "        self.grid_row, \\\n",
    "        self.grid_col, \\\n",
    "        self.n_drones, \\\n",
    "        self.max_turns, \\\n",
    "        self.max_payload, \\\n",
    "        self.n_prod_types, \\\n",
    "        self.weight_prod_types, \\\n",
    "        self.n_wrhs, \\\n",
    "        self.wrhs_info, \\\n",
    "        self.n_orders, \\\n",
    "        self.order_info = [data[i] for i in range(11)]\n",
    "\n",
    "    def get_df_orders(self):\n",
    "        x_order_loc = [self.order_info[i][0][0] for i in range(len(self.order_info))]\n",
    "        y_order_loc = [self.order_info[i][0][1] for i in range(len(self.order_info))]\n",
    "        n_items_per_order = [self.order_info[i][1][0] for i in range(len(self.order_info))]\n",
    "        df_orders = pd.DataFrame(list(zip(x_order_loc, y_order_loc, n_items_per_order)),\n",
    "                                 columns=[\"X\", \"Y\", \"N of Items\"])\n",
    "        return df_orders\n"
   ]
  },
  {
   "cell_type": "code",
   "execution_count": 26,
   "metadata": {},
   "outputs": [
    {
     "ename": "SyntaxError",
     "evalue": "invalid syntax (<ipython-input-26-50d043ae9d7a>, line 58)",
     "output_type": "error",
     "traceback": [
      "\u001b[1;36m  File \u001b[1;32m\"<ipython-input-26-50d043ae9d7a>\"\u001b[1;36m, line \u001b[1;32m58\u001b[0m\n\u001b[1;33m    def find_neares_warehouse:\u001b[0m\n\u001b[1;37m                             ^\u001b[0m\n\u001b[1;31mSyntaxError\u001b[0m\u001b[1;31m:\u001b[0m invalid syntax\n"
     ]
    }
   ],
   "source": [
    "def dist(a, b):\n",
    "    if isinstance(a,np.ndarray) or  isinstance(b,np.ndarray):\n",
    "        return np.sqrt(((a-b)**2).sum(1))\n",
    "    return np.sqrt((a[0]-b[0])**2 + (a[1]-b[1])**2)\n",
    "\n",
    "class Drone():  # inherit #product #warehouse #order (#utility)\n",
    "\n",
    "    def __init__(self, num):\n",
    "        self.num = num\n",
    "        self.products_type = []\n",
    "        self.products_weight = np.array(weight_prod_types)[self.products_type].sum()\n",
    "        self.products_quantity = []\n",
    "        self.pld_mass = 0\n",
    "        self.cur_pos = [0, 0]\n",
    "        self.turns = 0  # ?\n",
    "        self.actions = []  # ?\n",
    "        self.busy = False\n",
    "\n",
    "        # Df for use throughout\n",
    "        self.Data = Dataframes()\n",
    "    \n",
    "    def __repr__(self):\n",
    "        return '(num: ' + str(self.num) + ', ' + 'payload_weight: ' + str(sum(self.products_type)) + ')' \n",
    "        \n",
    "    def load(self, prod_type, qnty):\n",
    "        self.products_type.append(prod_type)\n",
    "        self.products_quantity.append(qnty)\n",
    "        # pactions.append([0 L 1 2 3 ]) ?order_number\n",
    "        self.turns += 1\n",
    "\n",
    "    def unload(self, prod_type, qnty):  # warehouse\n",
    "        self.products_type.remove(prod_type)\n",
    "        self.products_quantity.remove(qnty)\n",
    "        # actions.append([0 U 1 2 3 ])?order_number\n",
    "        self.turns += 1\n",
    "\n",
    "    def update_pld_mass(self):\n",
    "        tot_weight = 0\n",
    "        for i in range(len(self.products_type)):\n",
    "            unit_weight = self.Data.weight_prod_types[self.products_type[i]]\n",
    "            tot_weight += unit_weight * self.products_quantity[i]\n",
    "        self.pld_mass = tot_weight\n",
    "\n",
    "    def deliver(self, prod_type, qnty):  # to the order\n",
    "        self.products_type.remove(prod_type)\n",
    "        self.products_quantity.remove(qnty)\n",
    "        # actions.append([0 D 1 2 3 ])?order_number\n",
    "        self.turns += 1\n",
    "\n",
    "    def wait(self, n_turns):\n",
    "        self.turns += n_turns\n",
    "\n",
    "    def get_cur_pos(self):\n",
    "        return self.cur_pos\n",
    "\n",
    "    def update_cur_pos(self, new_pos):\n",
    "        self.cur_pos = new_pos  # define in utility class\n",
    "        \n",
    "    def find_nearest_wh(self, warehouses):\n",
    "        o = np.array([orders[x].position for x in orders], dtype = np.float64)\n",
    "        c = np.array([orders[x].completed for x in orders])\n",
    "        if c.sum() == 1250:\n",
    "            return 'All orders are completed'\n",
    "        o[c] = np.inf\n",
    "        d = dist(self.cur_pos, o)\n",
    "#         w = dist(self.cur_pos, o.warehouses)\n",
    "        return orders[np.argmin(d)]        \n",
    "        \n",
    "    def find_nearest_order(self, orders):\n",
    "        o = np.array([orders[x].position for x in orders], dtype = np.float64)\n",
    "        c = np.array([orders[x].completed for x in orders])\n",
    "        if c.sum() == 1250:\n",
    "            return 'All orders are completed'\n",
    "        o[c] = np.inf\n",
    "        d = dist(self.cur_pos, o)\n",
    "#         w = dist(self.cur_pos, o.warehouses)\n",
    "        return orders[np.argmin(d)]\n",
    "\n",
    "#     def find_best_path(self, order):\n",
    "#         pass\n",
    "    \n",
    "    \n",
    "#     def complete_order(self, order):\n",
    "#         products = \n",
    "        \n",
    "# d_0 = Drone(0)\n",
    "# d_0.update_cur_pos([0,1])\n",
    "# d_0.find_nearest_order(orders)\n",
    "# dist([0,1], np.array([orders[o].position for o in orders]))"
   ]
  },
  {
   "cell_type": "code",
   "execution_count": 35,
   "metadata": {},
   "outputs": [
    {
     "data": {
      "text/plain": [
       "array([ 5,  1,  2,  4,  8, 11,  5,  4,  7, 46,  1,  6,  3,  9,  3,  3,  2,\n",
       "        3,  1,  4,  3,  2,  1,  3,  2,  2,  9,  2,  5,  1,  4, 13,  1,  5,\n",
       "       16, 50,  3,  4,  1,  5,  2,  2,  4,  3,  2, 23,  2, 10,  7, 11,  1,\n",
       "        8,  9,  1,  2,  6,  6,  2,  6,  3,  1,  3,  5,  3,  2,  4,  3,  9,\n",
       "        2,  2, 10,  4,  4,  2, 15,  1,  4,  1,  5,  6,  5,  2,  6, 67,  8,\n",
       "        5,  6, 59,  3,  8,  3,  1,  1,  1,  4, 29,  3,  6, 38,  7,  1,  1,\n",
       "        4,  2,  1,  7,  5,  7,  1,  1,  1,  6,  1,  3,  8,  4,  4,  7,  7,\n",
       "        9,  7,  6,  4,  4,  1,  3,  2,  8,  8,  3,  5, 10,  6,  1,  2, 46,\n",
       "       11,  4,  1,  1,  4,  1,  2,  3,  1,  4, 11,  8,  5, 46,  3, 54, 40,\n",
       "        7,  3,  2, 11,  3,  2,  2,  8,  2,  1,  5,  6, 57,  8, 12,  7,  6,\n",
       "        2,  4,  1,  2,  4,  1,  2,  4,  2,  4,  2,  2,  1,  3,  1,  3,  2,\n",
       "        3,  5,  5,  5,  3,  8,  4, 10,  2, 36,  1,  5,  2,  5, 15,  5,  5,\n",
       "        4,  1,  3,  2,  2, 11,  6,  7])"
      ]
     },
     "execution_count": 35,
     "metadata": {},
     "output_type": "execute_result"
    }
   ],
   "source": [
    "w.products_quantity"
   ]
  },
  {
   "cell_type": "code",
   "execution_count": 82,
   "metadata": {},
   "outputs": [
    {
     "data": {
      "text/plain": [
       "array([ 42, 280, 299], dtype=int64)"
      ]
     },
     "execution_count": 82,
     "metadata": {},
     "output_type": "execute_result"
    }
   ],
   "source": [
    "w = warehouses[0]\n",
    "order = orders[0]\n",
    "w.products_types[pd.Series(w.products_types).isin(order.products_type)]"
   ]
  },
  {
   "cell_type": "code",
   "execution_count": 83,
   "metadata": {},
   "outputs": [
    {
     "data": {
      "text/plain": [
       "42     1\n",
       "280    1\n",
       "299    1\n",
       "dtype: int64"
      ]
     },
     "execution_count": 83,
     "metadata": {},
     "output_type": "execute_result"
    }
   ],
   "source": [
    "order.products_quantity[w.products_types[pd.Series(w.products_types).isin(order.products_type)]]"
   ]
  },
  {
   "cell_type": "code",
   "execution_count": 80,
   "metadata": {},
   "outputs": [
    {
     "data": {
      "text/plain": [
       "array([1, 2, 0])"
      ]
     },
     "execution_count": 80,
     "metadata": {},
     "output_type": "execute_result"
    }
   ],
   "source": [
    "a = np.array([8,9,0])\n",
    "b = np.array([1,2,3])\n",
    "np.array([a,b]).min(0)"
   ]
  },
  {
   "cell_type": "code",
   "execution_count": null,
   "metadata": {},
   "outputs": [],
   "source": [
    "    def compute_routes(self, routes, order):#route is a wharehouse or list of wharehouses \n",
    "    r = {}\n",
    "    for route in routes:\n",
    "        if isinstance(route, int):\n",
    "            r[route] = dist(self.get_cur_pos, route.pos) + dist(route.pos, order)\n",
    "        if isinstance(route, list):\n",
    "            w = route[-1]\n",
    "            r[tuple(route)] =  sum([dist(self.get_cur_pos, wh.pos) for wh in route]) + dist(w.pos, order)\n",
    "    return min(r, key = r.get) \n",
    "\n",
    "# #     for each drone find the order that minimizes the distance to travel\n",
    "routes = [9,\n",
    "          [1,8],\n",
    "         [2,3,4,7]]\n",
    "         [100+1, 100+2]\n",
    "min[drone.curpos,  [9 + dist(9, order), [1,8] + dist(8, order), [8,1] + dist(1, order)]]\n",
    "\n",
    "    def find_min_dist(self, order):\n",
    "        routes = []\n",
    "    #     compute all the distances from the warehouse, sort them by distance from current position\n",
    "        dist_wh = pd.DataFrame.from_dict(dict(zip(range(n_wrhs), dist(self.get_cur_pos, wh.pos))), orient = 'index').sort_values(ascending = False)\n",
    "    #     check all the routes for the order (check availability in wharehouse and return the min of all the distances)\n",
    "        \n",
    "        for x in warehouses:\n",
    "            w = wharehouses[x]\n",
    "            if np.all(pd.Series(order.products_type).isin(w.products_types)):\n",
    "                if order.products_quantity < w.products_quantity[pd.Series(w.products_types).isin(order.products_type)]:\n",
    "                    routes.append(w) \n",
    "                else:\n",
    "                    multi = []\n",
    "                    multi.append(w)\n",
    "                    quantity_left = np.array([order.products_quantity, w.products_quantity[pd.Series(w.products_types).isin(order.products_type)]]).min(0)\n",
    "            \n",
    "#             works till here\n",
    "            \n",
    "            if np.any(order.types.isin(w.types)):\n",
    "                multi = [w]\n",
    "                order_left = order[~order.types.isin(w.types)]\n",
    "    #             for prod_type in order.types[~order.types.isin(w.types)]:\n",
    "                for m in wharehouses:\n",
    "                    if order_left.amounts < w[order_left.types == w.types].amounts                    \n",
    "                        multi.append(m)\n",
    "                    #check if the order is finished (amounts == 0\n",
    "        return compute_best_routes(self, routes) #must compute the mininum over all routes but return the names of the wharehouses involved (the route)\n"
   ]
  },
  {
   "cell_type": "code",
   "execution_count": 25,
   "metadata": {},
   "outputs": [
    {
     "data": {
      "text/plain": [
       "(1028, 222)"
      ]
     },
     "execution_count": 25,
     "metadata": {},
     "output_type": "execute_result"
    }
   ],
   "source": [
    "type1order = 0\n",
    "type2order = 0\n",
    "for x in orders:\n",
    "    type1order += (orders[x].tot_weight>200)\n",
    "    type2order += (orders[x].tot_weight<=200)\n",
    "type1order, type2order"
   ]
  },
  {
   "cell_type": "code",
   "execution_count": 11,
   "metadata": {},
   "outputs": [],
   "source": [
    "class Warehouse:\n",
    "\n",
    "    def __init__(self, num, x, y, amounts):\n",
    "        quantity = np.array(amounts)\n",
    "        weights = np.array(weight_prod_types)\n",
    "        types = np.flatnonzero(quantity>0)\n",
    "        self.num = num\n",
    "        self.current_position = [x, y]\n",
    "        self.products_types = types\n",
    "        self.products_weights = weights[quantity >0]\n",
    "        self.products_quantity = quantity[quantity >0]\n",
    "        self.tot_weight = self.products_weights.sum()\n",
    "        \n",
    "    def table(self):\n",
    "        return pd.DataFrame({'Weights': self.products_weights, 'Amounts': self.products_quantity}, index = self.products_types)\n",
    "    \n",
    "    def __repr__(self):\n",
    "        return '(num: ' + str(self.num) + ', ' + 'n_products: '+ str(self.products_quantity.shape[0]) + ', ' + 'tot_weight: ' + str(self.tot_weight) + ', ' + 'tot_amount: ' + str(self.products_quantity.sum()) + ')'\n",
    "    \n",
    "    def add_product(self, prod_type, prod_qnt):\n",
    "        self.product_type.append(prod_type)\n",
    "        self.products_quantity.append(prod_qnt)\n",
    "\n",
    "    def remove_product(self, prod_type, prod_qnt):\n",
    "        self.products_quantity.remove(prod_qnt)\n",
    "        if self.products_quantity == 0:\n",
    "            self.product_type.remove(prod_type)\n"
   ]
  },
  {
   "cell_type": "code",
   "execution_count": 14,
   "metadata": {},
   "outputs": [],
   "source": [
    "class Order:\n",
    "\n",
    "    def __init__(self, num, x, y, amount, types):\n",
    "        self.amount = amount\n",
    "        weights = np.array(weight_prod_types)\n",
    "        self.num = num\n",
    "        self.position = [x, y]\n",
    "        self.tot_weight = weights[types].sum()\n",
    "        self.products_weights = weights[types]\n",
    "        self.products_type = np.array(types)\n",
    "        self.products_quantity = pd.Series(self.products_type).value_counts()\n",
    "#         self.products_quantity = pd.Series(self.products_type, columns = 'type').groupby('type').count()\n",
    "        self.completed = False\n",
    "        self.turn_order_completed = 0\n",
    "#         self.warehouses = #types and quantity \n",
    "\n",
    "    def table(self):\n",
    "        return pd.DataFrame({'Weights': self.products_weights, 'Amounts': self.products_quantity}, index = self.products_type)\n",
    "    #display only unique\n",
    "    \n",
    "    def __repr__(self):\n",
    "        return '(num: ' + str(self.num) + ', ' + 'n_items: ' + str(self.products_type.shape[0]) + ', ' + 'tot_weight: ' + str(self.tot_weight) + ')'\n",
    "    \n",
    "    def add_product(self, prod_type, prod_qnt):\n",
    "        self.product_type.append(prod_type)\n",
    "        self.products_quantity.append(prod_qnt)\n",
    "\n",
    "    def remove_product(self, prod_type, prod_qnt):\n",
    "        self.product_type.remove(prod_type)\n",
    "        self.products_quantity.remove(prod_qnt)\n",
    "        \n",
    "        \n",
    "        "
   ]
  },
  {
   "cell_type": "code",
   "execution_count": 15,
   "metadata": {},
   "outputs": [],
   "source": [
    "# initialize drones, warehouses and orders\n",
    "drones = {}\n",
    "for d in range(n_drones):\n",
    "    drones[d] = Drone(d)\n",
    "warehouses = {}\n",
    "for w in range(n_wrhs):\n",
    "    warehouses[w] = Warehouse(w, wrhs_info[w][0][0], wrhs_info[w][0][1], wrhs_info[w][1])\n",
    "orders = {}\n",
    "for o in range(n_orders):\n",
    "    orders[o] = Order(o, order_info[o][0][0], order_info[o][0][1], order_info[o][1][0], order_info[o][2])\n",
    "    \n",
    "max_weight = max_payload #200 \n",
    "\n",
    "for t in range(max_turns):\n",
    "    \n",
    "    for d in drones:\n",
    "        nearest_order = d.find_nearest_order(orders)\n",
    "        if nearest_order == 'All orders are completed'\n",
    "            return \"THE END\"\n",
    "        if (nearest_order.tot_weight <= max_weight):\n",
    "            d.complete_order(nearest_order)\n",
    "        \n",
    "        \n",
    "            "
   ]
  },
  {
   "cell_type": "code",
   "execution_count": null,
   "metadata": {},
   "outputs": [],
   "source": []
  }
 ],
 "metadata": {
  "kernelspec": {
   "display_name": "Python 3",
   "language": "python",
   "name": "python3"
  },
  "language_info": {
   "codemirror_mode": {
    "name": "ipython",
    "version": 3
   },
   "file_extension": ".py",
   "mimetype": "text/x-python",
   "name": "python",
   "nbconvert_exporter": "python",
   "pygments_lexer": "ipython3",
   "version": "3.7.9"
  }
 },
 "nbformat": 4,
 "nbformat_minor": 4
}
